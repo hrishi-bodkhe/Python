{
 "cells": [
  {
   "cell_type": "code",
   "execution_count": 1,
   "id": "dfcf26fe",
   "metadata": {},
   "outputs": [
    {
     "name": "stdout",
     "output_type": "stream",
     "text": [
      "0\n",
      "1\n",
      "2\n",
      "3\n",
      "4\n",
      "5\n",
      "6\n",
      "7\n",
      "8\n",
      "9\n"
     ]
    }
   ],
   "source": [
    "for i in range(10):\n",
    "    print(i)"
   ]
  },
  {
   "cell_type": "code",
   "execution_count": 3,
   "id": "525339db",
   "metadata": {},
   "outputs": [
    {
     "name": "stdout",
     "output_type": "stream",
     "text": [
      "1\n",
      "2\n",
      "3\n",
      "4\n",
      "5\n",
      "6\n",
      "7\n",
      "8\n",
      "9\n",
      "10\n"
     ]
    }
   ],
   "source": [
    "i = 1\n",
    "while(i <= 10):\n",
    "    print(i)\n",
    "    i += 1"
   ]
  },
  {
   "cell_type": "code",
   "execution_count": 4,
   "id": "915afba0",
   "metadata": {},
   "outputs": [],
   "source": [
    "import random"
   ]
  },
  {
   "cell_type": "code",
   "execution_count": 5,
   "id": "b90876a7",
   "metadata": {},
   "outputs": [],
   "source": [
    "random.randrange?"
   ]
  },
  {
   "cell_type": "code",
   "execution_count": 6,
   "id": "8405e6aa",
   "metadata": {},
   "outputs": [
    {
     "data": {
      "text/plain": [
       "7"
      ]
     },
     "execution_count": 6,
     "metadata": {},
     "output_type": "execute_result"
    }
   ],
   "source": [
    "random.randrange(10)"
   ]
  },
  {
   "cell_type": "code",
   "execution_count": 7,
   "id": "99ed6fdd",
   "metadata": {},
   "outputs": [
    {
     "data": {
      "text/plain": [
       "37"
      ]
     },
     "execution_count": 7,
     "metadata": {},
     "output_type": "execute_result"
    }
   ],
   "source": [
    "random.randrange(5, 59, 8)"
   ]
  },
  {
   "cell_type": "code",
   "execution_count": 8,
   "id": "34681852",
   "metadata": {},
   "outputs": [
    {
     "data": {
      "text/plain": [
       "0.8966795214352055"
      ]
     },
     "execution_count": 8,
     "metadata": {},
     "output_type": "execute_result"
    }
   ],
   "source": [
    "random.random()"
   ]
  },
  {
   "cell_type": "code",
   "execution_count": 9,
   "id": "5a802105",
   "metadata": {},
   "outputs": [
    {
     "name": "stdout",
     "output_type": "stream",
     "text": [
      "0.09008965804663904\n",
      "0.3057418618911564\n",
      "0.4787966119324121\n",
      "0.427330354772241\n",
      "0.9403455268365385\n",
      "0.8774192326630713\n",
      "0.9602335280217881\n",
      "0.6905530769413414\n",
      "0.2695518884823954\n",
      "0.6026138979484787\n"
     ]
    }
   ],
   "source": [
    "for i in range(10):\n",
    "    print(random.random())"
   ]
  },
  {
   "cell_type": "markdown",
   "id": "280a529f",
   "metadata": {},
   "source": [
    "# List"
   ]
  },
  {
   "cell_type": "code",
   "execution_count": 10,
   "id": "65f5218e",
   "metadata": {},
   "outputs": [],
   "source": [
    "l = []"
   ]
  },
  {
   "cell_type": "code",
   "execution_count": 11,
   "id": "de41c7fe",
   "metadata": {},
   "outputs": [],
   "source": [
    "l.append(10)"
   ]
  },
  {
   "cell_type": "code",
   "execution_count": 12,
   "id": "544c817a",
   "metadata": {},
   "outputs": [
    {
     "data": {
      "text/plain": [
       "[10]"
      ]
     },
     "execution_count": 12,
     "metadata": {},
     "output_type": "execute_result"
    }
   ],
   "source": [
    "l"
   ]
  },
  {
   "cell_type": "code",
   "execution_count": 13,
   "id": "18e79753",
   "metadata": {},
   "outputs": [],
   "source": [
    "l.append(5)"
   ]
  },
  {
   "cell_type": "code",
   "execution_count": 14,
   "id": "28d95cc0",
   "metadata": {},
   "outputs": [
    {
     "data": {
      "text/plain": [
       "[10, 5]"
      ]
     },
     "execution_count": 14,
     "metadata": {},
     "output_type": "execute_result"
    }
   ],
   "source": [
    "l"
   ]
  },
  {
   "cell_type": "code",
   "execution_count": 15,
   "id": "412fa44b",
   "metadata": {},
   "outputs": [
    {
     "name": "stdout",
     "output_type": "stream",
     "text": [
      "[10, 5]\n"
     ]
    }
   ],
   "source": [
    "print(l)"
   ]
  },
  {
   "cell_type": "code",
   "execution_count": 16,
   "id": "da0b6dcf",
   "metadata": {},
   "outputs": [],
   "source": [
    "l.sort()"
   ]
  },
  {
   "cell_type": "code",
   "execution_count": 17,
   "id": "95e683d2",
   "metadata": {},
   "outputs": [
    {
     "data": {
      "text/plain": [
       "[5, 10]"
      ]
     },
     "execution_count": 17,
     "metadata": {},
     "output_type": "execute_result"
    }
   ],
   "source": [
    "l"
   ]
  },
  {
   "cell_type": "code",
   "execution_count": 18,
   "id": "d7b4e045",
   "metadata": {},
   "outputs": [],
   "source": [
    "l.append(8)"
   ]
  },
  {
   "cell_type": "code",
   "execution_count": 19,
   "id": "18b8fbd8",
   "metadata": {},
   "outputs": [],
   "source": [
    "l.append(-5)\n",
    "l.append(99)"
   ]
  },
  {
   "cell_type": "code",
   "execution_count": 20,
   "id": "a25f5587",
   "metadata": {},
   "outputs": [
    {
     "data": {
      "text/plain": [
       "[-5, 5, 8, 10, 99]"
      ]
     },
     "execution_count": 20,
     "metadata": {},
     "output_type": "execute_result"
    }
   ],
   "source": [
    "l.sort()\n",
    "l"
   ]
  },
  {
   "cell_type": "code",
   "execution_count": 22,
   "id": "bd62c9f0",
   "metadata": {},
   "outputs": [],
   "source": [
    "l.reverse()"
   ]
  },
  {
   "cell_type": "code",
   "execution_count": 23,
   "id": "2eedb1f5",
   "metadata": {},
   "outputs": [
    {
     "data": {
      "text/plain": [
       "[99, 10, 8, 5, -5]"
      ]
     },
     "execution_count": 23,
     "metadata": {},
     "output_type": "execute_result"
    }
   ],
   "source": [
    "l"
   ]
  },
  {
   "cell_type": "code",
   "execution_count": 24,
   "id": "9806ea5f",
   "metadata": {},
   "outputs": [],
   "source": [
    "R = []"
   ]
  },
  {
   "cell_type": "code",
   "execution_count": 25,
   "id": "c1d6763b",
   "metadata": {},
   "outputs": [],
   "source": [
    "for i in range(40):\n",
    "    R.append(random.randint(1, 365))"
   ]
  },
  {
   "cell_type": "code",
   "execution_count": 26,
   "id": "4b44e14e",
   "metadata": {},
   "outputs": [
    {
     "data": {
      "text/plain": [
       "[232,\n",
       " 227,\n",
       " 27,\n",
       " 269,\n",
       " 19,\n",
       " 227,\n",
       " 350,\n",
       " 337,\n",
       " 60,\n",
       " 184,\n",
       " 20,\n",
       " 293,\n",
       " 329,\n",
       " 7,\n",
       " 140,\n",
       " 148,\n",
       " 66,\n",
       " 34,\n",
       " 323,\n",
       " 187,\n",
       " 152,\n",
       " 285,\n",
       " 290,\n",
       " 352,\n",
       " 324,\n",
       " 333,\n",
       " 73,\n",
       " 344,\n",
       " 234,\n",
       " 323,\n",
       " 118,\n",
       " 159,\n",
       " 86,\n",
       " 172,\n",
       " 345,\n",
       " 143,\n",
       " 84,\n",
       " 223,\n",
       " 54,\n",
       " 276]"
      ]
     },
     "execution_count": 26,
     "metadata": {},
     "output_type": "execute_result"
    }
   ],
   "source": [
    "R"
   ]
  },
  {
   "cell_type": "code",
   "execution_count": 27,
   "id": "f8519969",
   "metadata": {},
   "outputs": [],
   "source": [
    "R.sort()"
   ]
  },
  {
   "cell_type": "code",
   "execution_count": 31,
   "id": "d2cf704d",
   "metadata": {},
   "outputs": [
    {
     "name": "stdout",
     "output_type": "stream",
     "text": [
      "[7, 19, 20, 27, 34, 54, 60, 66, 73, 84, 86, 118, 140, 143, 148, 152, 159, 172, 184, 187, 223, 227, 227, 232, 234, 269, 276, 285, 290, 293, 323, 323, 324, 329, 333, 337, 344, 345, 350, 352]\n"
     ]
    }
   ],
   "source": [
    "print(R)  #Birthday Paradox -> Two people with same birthdays"
   ]
  },
  {
   "cell_type": "code",
   "execution_count": 33,
   "id": "f005778b",
   "metadata": {},
   "outputs": [
    {
     "data": {
      "text/plain": [
       "'MultiLine \\ncomment'"
      ]
     },
     "execution_count": 33,
     "metadata": {},
     "output_type": "execute_result"
    }
   ],
   "source": [
    "'''MultiLine \n",
    "comment'''"
   ]
  },
  {
   "cell_type": "code",
   "execution_count": 34,
   "id": "0cb57186",
   "metadata": {},
   "outputs": [],
   "source": [
    "import networkx as nx\n",
    "import matplotlib.pyplot as plt"
   ]
  },
  {
   "cell_type": "code",
   "execution_count": 35,
   "id": "a232f3ce",
   "metadata": {},
   "outputs": [],
   "source": [
    "G = nx.erdos_renyi_graph(100, .2)"
   ]
  },
  {
   "cell_type": "code",
   "execution_count": 38,
   "id": "0a0c0d75",
   "metadata": {},
   "outputs": [
    {
     "data": {
      "image/png": "[encoded data removed]",
      "text/plain": [
       "<Figure size 432x288 with 1 Axes>"
      ]
     },
     "metadata": {},
     "output_type": "display_data"
    }
   ],
   "source": [
    "nx.draw(G)\n",
    "plt.show()"
   ]
  },
  {
   "cell_type": "code",
   "execution_count": 41,
   "id": "8e131446",
   "metadata": {},
   "outputs": [
    {
     "name": "stdout",
     "output_type": "stream",
     "text": [
      "True\n"
     ]
    }
   ],
   "source": [
    "k = 20\n",
    "if(k > 19):\n",
    "    print(True)\n",
    "else:\n",
    "    print(False)"
   ]
  },
  {
   "cell_type": "code",
   "execution_count": 44,
   "id": "b346eb2e",
   "metadata": {},
   "outputs": [
    {
     "name": "stdout",
     "output_type": "stream",
     "text": [
      "1\n",
      "0.9779200052223254\n",
      "1\n"
     ]
    }
   ],
   "source": [
    "print(random.randint(1, 5))\n",
    "print(random.random())\n",
    "print(random.randrange(1, 5))"
   ]
  },
  {
   "cell_type": "code",
   "execution_count": null,
   "id": "01689749",
   "metadata": {},
   "outputs": [],
   "source": []
  },
  {
   "cell_type": "code",
   "execution_count": 45,
   "id": "d4a908a4",
   "metadata": {},
   "outputs": [
    {
     "data": {
      "text/plain": [
       "[99, 10, 8, 5, -5]"
      ]
     },
     "execution_count": 45,
     "metadata": {},
     "output_type": "execute_result"
    }
   ],
   "source": [
    "l"
   ]
  },
  {
   "cell_type": "code",
   "execution_count": 46,
   "id": "42bd4a36",
   "metadata": {},
   "outputs": [],
   "source": [
    "for i in range(100):\n",
    "    l.append(random.random())"
   ]
  },
  {
   "cell_type": "code",
   "execution_count": 47,
   "id": "0a020165",
   "metadata": {},
   "outputs": [
    {
     "name": "stdout",
     "output_type": "stream",
     "text": [
      "[99, 10, 8, 5, -5, 0.3072629551647408, 0.2501197402034878, 0.21354262406005242, 0.028051112960424618, 0.8167572863019623, 0.25368148721881256, 0.8970840491420874, 0.020255453511616506, 0.8468436479279585, 0.10498014930275457, 0.03667412432266015, 0.0688088978411826, 0.5737223606899002, 0.1991646398232365, 0.07708425953748843, 0.8063362000795655, 0.6297460041154271, 0.5138886364765252, 0.8030865909831499, 0.7436786778742126, 0.17836249439144014, 0.5163368200257586, 0.8606759532899801, 0.26480437230505494, 0.6854834207012586, 0.6747334761048248, 0.8499979453494044, 0.48358065415429674, 0.9565451733465804, 0.4700987502044055, 0.7258867526793278, 0.9970753767596174, 0.017072811905890384, 0.48840372678296473, 0.7089044555261731, 0.02571596065462245, 0.12086118538242474, 0.046988543282068806, 0.7020839409949372, 0.6792378950356583, 0.7707677635515233, 0.1024790979768585, 0.23400300509543714, 0.4162199699354724, 0.6369553162774323, 0.7188577956689944, 0.17442085517644512, 0.07517794294302238, 0.10103258140829852, 0.8101094665545221, 0.8338989675824751, 0.4408628795074824, 0.9136708917576194, 0.9531208150404445, 0.29182980652438706, 0.5332378084731926, 0.9827420672763066, 0.7971298212783778, 0.5354841525020768, 0.06452945102601426, 0.8712086042710312, 0.15403829341102482, 0.981213907063277, 0.9748592584756286, 0.1662045055017739, 0.8280501457346293, 0.7800583345021403, 0.056900638674340476, 0.7981748065064777, 0.5960362325431922, 0.3949141756920651, 0.3537245189955369, 0.1456834648348495, 0.5576482849987136, 0.09546818594451256, 0.15372575279914713, 0.7219417915870964, 0.8798374901982858, 0.24698306686975247, 0.3631325921396007, 0.11457771074761869, 0.12828327931865002, 0.21092442513073084, 0.592631019846701, 0.7142022967163839, 0.7530200316048112, 0.88781885241503, 0.13081669603535573, 0.062483952180297675, 0.9893063751300026, 0.12276951398778801, 0.10028747632106383, 0.5456283649524287, 0.3475266397654425, 0.369673998594493, 0.7656851336744628, 0.9462046531769847, 0.7706914079527806, 0.7835525364634808, 0.31281290539264506]\n"
     ]
    }
   ],
   "source": [
    "print(l)"
   ]
  },
  {
   "cell_type": "code",
   "execution_count": 48,
   "id": "651afd80",
   "metadata": {},
   "outputs": [],
   "source": [
    "l.clear()"
   ]
  },
  {
   "cell_type": "code",
   "execution_count": 49,
   "id": "b5611e3f",
   "metadata": {},
   "outputs": [
    {
     "data": {
      "text/plain": [
       "[]"
      ]
     },
     "execution_count": 49,
     "metadata": {},
     "output_type": "execute_result"
    }
   ],
   "source": [
    "l"
   ]
  },
  {
   "cell_type": "code",
   "execution_count": 50,
   "id": "88c9d29c",
   "metadata": {},
   "outputs": [],
   "source": [
    "for i in range(100):\n",
    "    l.append(random.randrange(1, 20))"
   ]
  },
  {
   "cell_type": "code",
   "execution_count": 52,
   "id": "a7d1a89a",
   "metadata": {},
   "outputs": [
    {
     "name": "stdout",
     "output_type": "stream",
     "text": [
      "[10, 16, 3, 7, 7, 9, 17, 5, 2, 11, 8, 1, 17, 8, 2, 12, 19, 19, 6, 16, 11, 19, 8, 19, 19, 5, 8, 11, 6, 3, 8, 19, 19, 11, 9, 10, 7, 8, 7, 18, 17, 11, 14, 19, 18, 1, 2, 1, 15, 7, 5, 10, 1, 5, 2, 6, 13, 18, 14, 13, 7, 15, 5, 14, 11, 13, 14, 12, 9, 12, 6, 15, 4, 15, 1, 19, 17, 2, 1, 3, 9, 11, 19, 11, 14, 16, 15, 5, 9, 2, 8, 8, 5, 13, 18, 7, 13, 13, 18, 14]\n"
     ]
    }
   ],
   "source": [
    "print(l)"
   ]
  },
  {
   "cell_type": "code",
   "execution_count": 53,
   "id": "f911607a",
   "metadata": {},
   "outputs": [],
   "source": [
    "def sumup():\n",
    "    a = random.random()\n",
    "    b = random.random()\n",
    "    return a + b"
   ]
  },
  {
   "cell_type": "code",
   "execution_count": 56,
   "id": "bdd44913",
   "metadata": {},
   "outputs": [
    {
     "data": {
      "text/plain": [
       "1.167787616617854"
      ]
     },
     "execution_count": 56,
     "metadata": {},
     "output_type": "execute_result"
    }
   ],
   "source": [
    "sumup()"
   ]
  },
  {
   "cell_type": "code",
   "execution_count": 72,
   "id": "e906e233",
   "metadata": {},
   "outputs": [],
   "source": [
    "import dummy"
   ]
  },
  {
   "cell_type": "code",
   "execution_count": 73,
   "id": "cf7f005c",
   "metadata": {},
   "outputs": [
    {
     "data": {
      "text/plain": [
       "11"
      ]
     },
     "execution_count": 73,
     "metadata": {},
     "output_type": "execute_result"
    }
   ],
   "source": [
    "dummy.sumup(5, 6)"
   ]
  },
  {
   "cell_type": "code",
   "execution_count": 74,
   "id": "9002c6f1",
   "metadata": {},
   "outputs": [],
   "source": [
    "dummy.sumup?"
   ]
  },
  {
   "cell_type": "code",
   "execution_count": 1,
   "id": "c7abe560",
   "metadata": {},
   "outputs": [],
   "source": [
    "l = []\n",
    "l.append(19)\n",
    "l.append(3)\n",
    "l.append(44)\n",
    "l.append(-1)"
   ]
  },
  {
   "cell_type": "code",
   "execution_count": 2,
   "id": "20acf258",
   "metadata": {},
   "outputs": [],
   "source": [
    "l.sort()"
   ]
  },
  {
   "cell_type": "code",
   "execution_count": 3,
   "id": "c71a73df",
   "metadata": {},
   "outputs": [
    {
     "data": {
      "text/plain": [
       "[-1, 3, 19, 44]"
      ]
     },
     "execution_count": 3,
     "metadata": {},
     "output_type": "execute_result"
    }
   ],
   "source": [
    "l"
   ]
  },
  {
   "cell_type": "code",
   "execution_count": 4,
   "id": "26d715b7",
   "metadata": {},
   "outputs": [],
   "source": [
    "l.append(3)"
   ]
  },
  {
   "cell_type": "code",
   "execution_count": 5,
   "id": "47b38be2",
   "metadata": {},
   "outputs": [
    {
     "data": {
      "text/plain": [
       "[-1, 3, 19, 44, 3]"
      ]
     },
     "execution_count": 5,
     "metadata": {},
     "output_type": "execute_result"
    }
   ],
   "source": [
    "l"
   ]
  },
  {
   "cell_type": "code",
   "execution_count": 6,
   "id": "64da1007",
   "metadata": {},
   "outputs": [],
   "source": [
    "l.remove(3)"
   ]
  },
  {
   "cell_type": "code",
   "execution_count": 7,
   "id": "63c1f0cf",
   "metadata": {},
   "outputs": [
    {
     "data": {
      "text/plain": [
       "[-1, 19, 44, 3]"
      ]
     },
     "execution_count": 7,
     "metadata": {},
     "output_type": "execute_result"
    }
   ],
   "source": [
    "l"
   ]
  },
  {
   "cell_type": "code",
   "execution_count": 12,
   "id": "fe3563a2",
   "metadata": {},
   "outputs": [],
   "source": [
    "l.clear()\n",
    "import random"
   ]
  },
  {
   "cell_type": "code",
   "execution_count": 13,
   "id": "d5a98fdc",
   "metadata": {},
   "outputs": [],
   "source": [
    "for i in range(40):\n",
    "    l.append(random.randint(1, 365))"
   ]
  },
  {
   "cell_type": "code",
   "execution_count": 16,
   "id": "6d7e9f8f",
   "metadata": {},
   "outputs": [
    {
     "name": "stdout",
     "output_type": "stream",
     "text": [
      "[5, 10, 23, 44, 44, 63, 66, 74, 79, 82, 89, 95, 96, 101, 109, 116, 124, 126, 163, 178, 184, 203, 204, 205, 209, 226, 243, 258, 277, 284, 294, 294, 303, 327, 334, 340, 353, 360, 362, 364]\n"
     ]
    }
   ],
   "source": [
    "l.sort()\n",
    "print(l)"
   ]
  },
  {
   "cell_type": "markdown",
   "id": "62747c8c",
   "metadata": {},
   "source": [
    "# Networkx"
   ]
  },
  {
   "cell_type": "code",
   "execution_count": 17,
   "id": "9081b6fe",
   "metadata": {},
   "outputs": [],
   "source": [
    "import networkx"
   ]
  },
  {
   "cell_type": "code",
   "execution_count": 19,
   "id": "8566ebfe",
   "metadata": {},
   "outputs": [],
   "source": [
    "G = networkx.Graph()"
   ]
  },
  {
   "cell_type": "code",
   "execution_count": 20,
   "id": "f702d0d7",
   "metadata": {},
   "outputs": [],
   "source": [
    "G.add_node(1)\n",
    "G.add_node(2)\n",
    "G.add_node(3)\n",
    "G.add_node(4)\n",
    "G.add_node(5)\n",
    "G.add_node(6)"
   ]
  },
  {
   "cell_type": "code",
   "execution_count": 21,
   "id": "224e2f50",
   "metadata": {},
   "outputs": [
    {
     "data": {
      "text/plain": [
       "NodeView((1, 2, 3, 4, 5, 6))"
      ]
     },
     "execution_count": 21,
     "metadata": {},
     "output_type": "execute_result"
    }
   ],
   "source": [
    "G.nodes()"
   ]
  },
  {
   "cell_type": "code",
   "execution_count": 23,
   "id": "6c8d3b40",
   "metadata": {},
   "outputs": [],
   "source": [
    "G.add_edge(1,2)\n",
    "G.add_edge(1,3)\n",
    "G.add_edge(4,6)\n",
    "G.add_edge(5,4)\n",
    "G.add_edge(2,3)"
   ]
  },
  {
   "cell_type": "code",
   "execution_count": 24,
   "id": "088a35c8",
   "metadata": {},
   "outputs": [
    {
     "data": {
      "text/plain": [
       "EdgeView([(1, 2), (1, 3), (2, 3), (4, 6), (4, 5)])"
      ]
     },
     "execution_count": 24,
     "metadata": {},
     "output_type": "execute_result"
    }
   ],
   "source": [
    "G.edges()"
   ]
  },
  {
   "cell_type": "code",
   "execution_count": 26,
   "id": "c30f0e64",
   "metadata": {},
   "outputs": [],
   "source": [
    "G.add_edge(2,3)\n",
    "G.add_edge(2,6)"
   ]
  },
  {
   "cell_type": "code",
   "execution_count": 27,
   "id": "83c5d91b",
   "metadata": {},
   "outputs": [
    {
     "data": {
      "text/plain": [
       "EdgeView([(1, 2), (1, 3), (2, 3), (2, 6), (4, 6), (4, 5)])"
      ]
     },
     "execution_count": 27,
     "metadata": {},
     "output_type": "execute_result"
    }
   ],
   "source": [
    "G.edges()"
   ]
  },
  {
   "cell_type": "code",
   "execution_count": 28,
   "id": "3ccf6639",
   "metadata": {},
   "outputs": [],
   "source": [
    "import networkx as nx"
   ]
  },
  {
   "cell_type": "code",
   "execution_count": 29,
   "id": "982cd940",
   "metadata": {},
   "outputs": [],
   "source": [
    "import matplotlib.pyplot as plt"
   ]
  },
  {
   "cell_type": "code",
   "execution_count": 30,
   "id": "cdeb9589",
   "metadata": {},
   "outputs": [
    {
     "data": {
      "image/png": "[encoded data removed]",
      "text/plain": [
       "<Figure size 432x288 with 1 Axes>"
      ]
     },
     "metadata": {},
     "output_type": "display_data"
    }
   ],
   "source": [
    "nx.draw(G)"
   ]
  },
  {
   "cell_type": "code",
   "execution_count": 31,
   "id": "de986d52",
   "metadata": {},
   "outputs": [
    {
     "data": {
      "image/png": "[encoded data removed]",
      "text/plain": [
       "<Figure size 432x288 with 1 Axes>"
      ]
     },
     "metadata": {},
     "output_type": "display_data"
    }
   ],
   "source": [
    "nx.draw(G, with_labels = 1)"
   ]
  },
  {
   "cell_type": "code",
   "execution_count": 32,
   "id": "0c131c45",
   "metadata": {},
   "outputs": [],
   "source": [
    "Z = nx.complete_graph(10)"
   ]
  },
  {
   "cell_type": "code",
   "execution_count": 33,
   "id": "ae720f51",
   "metadata": {},
   "outputs": [
    {
     "data": {
      "text/plain": [
       "NodeView((0, 1, 2, 3, 4, 5, 6, 7, 8, 9))"
      ]
     },
     "execution_count": 33,
     "metadata": {},
     "output_type": "execute_result"
    }
   ],
   "source": [
    "Z.nodes"
   ]
  },
  {
   "cell_type": "code",
   "execution_count": 34,
   "id": "8ed936c0",
   "metadata": {},
   "outputs": [
    {
     "data": {
      "text/plain": [
       "EdgeView([(0, 1), (0, 2), (0, 3), (0, 4), (0, 5), (0, 6), (0, 7), (0, 8), (0, 9), (1, 2), (1, 3), (1, 4), (1, 5), (1, 6), (1, 7), (1, 8), (1, 9), (2, 3), (2, 4), (2, 5), (2, 6), (2, 7), (2, 8), (2, 9), (3, 4), (3, 5), (3, 6), (3, 7), (3, 8), (3, 9), (4, 5), (4, 6), (4, 7), (4, 8), (4, 9), (5, 6), (5, 7), (5, 8), (5, 9), (6, 7), (6, 8), (6, 9), (7, 8), (7, 9), (8, 9)])"
      ]
     },
     "execution_count": 34,
     "metadata": {},
     "output_type": "execute_result"
    }
   ],
   "source": [
    "Z.edges"
   ]
  },
  {
   "cell_type": "code",
   "execution_count": 36,
   "id": "c2a4bf42",
   "metadata": {},
   "outputs": [
    {
     "data": {
      "text/plain": [
       "10"
      ]
     },
     "execution_count": 36,
     "metadata": {},
     "output_type": "execute_result"
    }
   ],
   "source": [
    "Z.order()"
   ]
  },
  {
   "cell_type": "code",
   "execution_count": 37,
   "id": "de3dc22b",
   "metadata": {},
   "outputs": [
    {
     "data": {
      "text/plain": [
       "45"
      ]
     },
     "execution_count": 37,
     "metadata": {},
     "output_type": "execute_result"
    }
   ],
   "source": [
    "Z.size()"
   ]
  },
  {
   "cell_type": "code",
   "execution_count": 38,
   "id": "b516b454",
   "metadata": {},
   "outputs": [
    {
     "data": {
      "image/png": "[encoded data removed]",
      "text/plain": [
       "<Figure size 432x288 with 1 Axes>"
      ]
     },
     "metadata": {},
     "output_type": "display_data"
    }
   ],
   "source": [
    "nx.draw(Z, with_labels = 1)"
   ]
  },
  {
   "cell_type": "code",
   "execution_count": 41,
   "id": "f57d95cd",
   "metadata": {},
   "outputs": [
    {
     "data": {
      "image/png": "[encoded data removed]",
      "text/plain": [
       "<Figure size 432x288 with 1 Axes>"
      ]
     },
     "metadata": {},
     "output_type": "display_data"
    }
   ],
   "source": [
    "nx.draw(nx.complete_graph(100), with_labels = 1)"
   ]
  },
  {
   "cell_type": "code",
   "execution_count": 42,
   "id": "f7d0ea5b",
   "metadata": {},
   "outputs": [
    {
     "data": {
      "image/png": "[encoded data removed]",
      "text/plain": [
       "<Figure size 432x288 with 1 Axes>"
      ]
     },
     "metadata": {},
     "output_type": "display_data"
    }
   ],
   "source": [
    "nx.draw(nx.gnp_random_graph(20, 0.5), with_labels = 1)"
   ]
  },
  {
   "cell_type": "code",
   "execution_count": 49,
   "id": "5338d771",
   "metadata": {},
   "outputs": [],
   "source": [
    "#tuples are immutable, i.e., cannot change the value. Lists are mutable.\n",
    "tup = (21, 5, 5, 66, 32, 6)"
   ]
  },
  {
   "cell_type": "code",
   "execution_count": 50,
   "id": "ac9b08f1",
   "metadata": {},
   "outputs": [
    {
     "data": {
      "text/plain": [
       "(21, 5, 5, 66, 32, 6)"
      ]
     },
     "execution_count": 50,
     "metadata": {},
     "output_type": "execute_result"
    }
   ],
   "source": [
    "tup"
   ]
  },
  {
   "cell_type": "code",
   "execution_count": 51,
   "id": "0cf2e2fb",
   "metadata": {},
   "outputs": [
    {
     "data": {
      "text/plain": [
       "5"
      ]
     },
     "execution_count": 51,
     "metadata": {},
     "output_type": "execute_result"
    }
   ],
   "source": [
    "tup[1]"
   ]
  },
  {
   "cell_type": "code",
   "execution_count": 52,
   "id": "87beee52",
   "metadata": {},
   "outputs": [
    {
     "ename": "TypeError",
     "evalue": "'tuple' object does not support item assignment",
     "output_type": "error",
     "traceback": [
      "\u001b[1;31m---------------------------------------------------------------------------\u001b[0m",
      "\u001b[1;31mTypeError\u001b[0m                                 Traceback (most recent call last)",
      "Input \u001b[1;32mIn [52]\u001b[0m, in \u001b[0;36m<cell line: 1>\u001b[1;34m()\u001b[0m\n\u001b[1;32m----> 1\u001b[0m tup[\u001b[38;5;241m1\u001b[39m] \u001b[38;5;241m=\u001b[39m \u001b[38;5;241m4\u001b[39m\n",
      "\u001b[1;31mTypeError\u001b[0m: 'tuple' object does not support item assignment"
     ]
    }
   ],
   "source": [
    "tup[1] = 4"
   ]
  },
  {
   "cell_type": "code",
   "execution_count": 53,
   "id": "005f007c",
   "metadata": {},
   "outputs": [
    {
     "data": {
      "text/plain": [
       "2"
      ]
     },
     "execution_count": 53,
     "metadata": {},
     "output_type": "execute_result"
    }
   ],
   "source": [
    "tup.count(5)"
   ]
  },
  {
   "cell_type": "code",
   "execution_count": 61,
   "id": "f459b13a",
   "metadata": {},
   "outputs": [
    {
     "data": {
      "text/plain": [
       "2"
      ]
     },
     "execution_count": 61,
     "metadata": {},
     "output_type": "execute_result"
    }
   ],
   "source": [
    "tup.index(5, 2)"
   ]
  },
  {
   "cell_type": "code",
   "execution_count": 64,
   "id": "0e414275",
   "metadata": {},
   "outputs": [],
   "source": [
    "s = {4, 5, 2, 1, 55, 4}  #set"
   ]
  },
  {
   "cell_type": "code",
   "execution_count": 65,
   "id": "6deab92d",
   "metadata": {},
   "outputs": [
    {
     "data": {
      "text/plain": [
       "{1, 2, 4, 5, 55}"
      ]
     },
     "execution_count": 65,
     "metadata": {},
     "output_type": "execute_result"
    }
   ],
   "source": [
    "s"
   ]
  },
  {
   "cell_type": "code",
   "execution_count": 66,
   "id": "e798c46a",
   "metadata": {},
   "outputs": [],
   "source": [
    "s = {44, 53, 52, 11, 1}"
   ]
  },
  {
   "cell_type": "code",
   "execution_count": 68,
   "id": "90fe3691",
   "metadata": {},
   "outputs": [
    {
     "data": {
      "text/plain": [
       "{1, 11, 44, 52, 53}"
      ]
     },
     "execution_count": 68,
     "metadata": {},
     "output_type": "execute_result"
    }
   ],
   "source": [
    "s"
   ]
  },
  {
   "cell_type": "code",
   "execution_count": 69,
   "id": "b643d4c1",
   "metadata": {},
   "outputs": [
    {
     "ename": "TypeError",
     "evalue": "'set' object is not subscriptable",
     "output_type": "error",
     "traceback": [
      "\u001b[1;31m---------------------------------------------------------------------------\u001b[0m",
      "\u001b[1;31mTypeError\u001b[0m                                 Traceback (most recent call last)",
      "Input \u001b[1;32mIn [69]\u001b[0m, in \u001b[0;36m<cell line: 1>\u001b[1;34m()\u001b[0m\n\u001b[1;32m----> 1\u001b[0m \u001b[43ms\u001b[49m\u001b[43m[\u001b[49m\u001b[38;5;241;43m2\u001b[39;49m\u001b[43m]\u001b[49m\n",
      "\u001b[1;31mTypeError\u001b[0m: 'set' object is not subscriptable"
     ]
    }
   ],
   "source": [
    "s[2]  #bcoz set doesn't follow any order. It uses hashing."
   ]
  },
  {
   "cell_type": "markdown",
   "id": "457dda34",
   "metadata": {},
   "source": [
    "# Dictionaries"
   ]
  },
  {
   "cell_type": "code",
   "execution_count": 71,
   "id": "ff73984f",
   "metadata": {},
   "outputs": [],
   "source": [
    "data = {1: \"apple\", 2: \"banana\", 4: \"coconut\"}"
   ]
  },
  {
   "cell_type": "code",
   "execution_count": 72,
   "id": "75dc6031",
   "metadata": {},
   "outputs": [
    {
     "data": {
      "text/plain": [
       "{1: 'apple', 2: 'banana', 4: 'coconut'}"
      ]
     },
     "execution_count": 72,
     "metadata": {},
     "output_type": "execute_result"
    }
   ],
   "source": [
    "data"
   ]
  },
  {
   "cell_type": "code",
   "execution_count": 74,
   "id": "acf9ca8a",
   "metadata": {},
   "outputs": [
    {
     "data": {
      "text/plain": [
       "'coconut'"
      ]
     },
     "execution_count": 74,
     "metadata": {},
     "output_type": "execute_result"
    }
   ],
   "source": [
    "data[4]"
   ]
  },
  {
   "cell_type": "code",
   "execution_count": 76,
   "id": "54a36ead",
   "metadata": {},
   "outputs": [
    {
     "data": {
      "text/plain": [
       "dict_keys([1, 2, 4])"
      ]
     },
     "execution_count": 76,
     "metadata": {},
     "output_type": "execute_result"
    }
   ],
   "source": [
    "data.keys()"
   ]
  },
  {
   "cell_type": "code",
   "execution_count": 77,
   "id": "f2beeaf0",
   "metadata": {},
   "outputs": [
    {
     "data": {
      "text/plain": [
       "dict_values(['apple', 'banana', 'coconut'])"
      ]
     },
     "execution_count": 77,
     "metadata": {},
     "output_type": "execute_result"
    }
   ],
   "source": [
    "data.values()"
   ]
  },
  {
   "cell_type": "code",
   "execution_count": 78,
   "id": "cb109de9",
   "metadata": {},
   "outputs": [
    {
     "data": {
      "text/plain": [
       "'coconut'"
      ]
     },
     "execution_count": 78,
     "metadata": {},
     "output_type": "execute_result"
    }
   ],
   "source": [
    "data.get(4)"
   ]
  },
  {
   "cell_type": "code",
   "execution_count": 82,
   "id": "5f200d7e",
   "metadata": {},
   "outputs": [
    {
     "data": {
      "text/plain": [
       "{1: None, 2: None, 4: None}"
      ]
     },
     "execution_count": 82,
     "metadata": {},
     "output_type": "execute_result"
    }
   ],
   "source": [
    "dictt = {}\n",
    "dictt.fromkeys(data)"
   ]
  },
  {
   "cell_type": "code",
   "execution_count": 83,
   "id": "d03bf970",
   "metadata": {},
   "outputs": [],
   "source": [
    "data.get(3)"
   ]
  },
  {
   "cell_type": "code",
   "execution_count": 84,
   "id": "e317085a",
   "metadata": {},
   "outputs": [
    {
     "data": {
      "text/plain": [
       "'Not Found'"
      ]
     },
     "execution_count": 84,
     "metadata": {},
     "output_type": "execute_result"
    }
   ],
   "source": [
    "data.get(3, \"Not Found\")"
   ]
  },
  {
   "cell_type": "code",
   "execution_count": 85,
   "id": "7f185b3e",
   "metadata": {},
   "outputs": [],
   "source": [
    "keys = [\"Laptop\", \"Mobile\", \"AirPods\"]\n",
    "values = [51000, 16000, 2000]"
   ]
  },
  {
   "cell_type": "code",
   "execution_count": 90,
   "id": "90a2df00",
   "metadata": {},
   "outputs": [],
   "source": [
    "newDict = dict(zip(keys, values))"
   ]
  },
  {
   "cell_type": "code",
   "execution_count": 93,
   "id": "7163d6a0",
   "metadata": {},
   "outputs": [
    {
     "data": {
      "text/plain": [
       "{'Laptop': 51000, 'Mobile': 16000, 'AirPods': 2000}"
      ]
     },
     "execution_count": 93,
     "metadata": {},
     "output_type": "execute_result"
    }
   ],
   "source": [
    "newDict"
   ]
  },
  {
   "cell_type": "code",
   "execution_count": 94,
   "id": "6a8ba078",
   "metadata": {},
   "outputs": [
    {
     "data": {
      "text/plain": [
       "dict_keys(['Laptop', 'Mobile', 'AirPods'])"
      ]
     },
     "execution_count": 94,
     "metadata": {},
     "output_type": "execute_result"
    }
   ],
   "source": [
    "newDict.keys()"
   ]
  },
  {
   "cell_type": "code",
   "execution_count": 95,
   "id": "56357442",
   "metadata": {},
   "outputs": [],
   "source": [
    "newDict[\"Speakers\"] = 5000"
   ]
  },
  {
   "cell_type": "code",
   "execution_count": 96,
   "id": "079b1f19",
   "metadata": {},
   "outputs": [
    {
     "data": {
      "text/plain": [
       "{'Laptop': 51000, 'Mobile': 16000, 'AirPods': 2000, 'Speakers': 5000}"
      ]
     },
     "execution_count": 96,
     "metadata": {},
     "output_type": "execute_result"
    }
   ],
   "source": [
    "newDict"
   ]
  },
  {
   "cell_type": "code",
   "execution_count": 97,
   "id": "8dc67834",
   "metadata": {},
   "outputs": [
    {
     "data": {
      "text/plain": [
       "5000"
      ]
     },
     "execution_count": 97,
     "metadata": {},
     "output_type": "execute_result"
    }
   ],
   "source": [
    "newDict.pop(\"Speakers\")"
   ]
  },
  {
   "cell_type": "code",
   "execution_count": 98,
   "id": "88fc068c",
   "metadata": {},
   "outputs": [
    {
     "data": {
      "text/plain": [
       "{'Laptop': 51000, 'Mobile': 16000, 'AirPods': 2000}"
      ]
     },
     "execution_count": 98,
     "metadata": {},
     "output_type": "execute_result"
    }
   ],
   "source": [
    "newDict"
   ]
  },
  {
   "cell_type": "code",
   "execution_count": 99,
   "id": "31a02f0f",
   "metadata": {},
   "outputs": [],
   "source": [
    "prog = {'Js': 'Atom', 'C': 'Codeblocks', 'Python': ['PyCharm', 'Anaconda', 'IDLE'], 'Java': {'JSE': 'Netbeans', 'JEE': 'Eclipse'}}"
   ]
  },
  {
   "cell_type": "code",
   "execution_count": 100,
   "id": "deacbc79",
   "metadata": {},
   "outputs": [
    {
     "data": {
      "text/plain": [
       "{'Js': 'Atom',\n",
       " 'C': 'Codeblocks',\n",
       " 'Python': ['PyCharm', 'Anaconda', 'IDLE'],\n",
       " 'Java': {'JSE': 'Netbeans', 'JEE': 'Eclipse'}}"
      ]
     },
     "execution_count": 100,
     "metadata": {},
     "output_type": "execute_result"
    }
   ],
   "source": [
    "prog"
   ]
  },
  {
   "cell_type": "code",
   "execution_count": 102,
   "id": "91244d0f",
   "metadata": {},
   "outputs": [
    {
     "data": {
      "text/plain": [
       "'Atom'"
      ]
     },
     "execution_count": 102,
     "metadata": {},
     "output_type": "execute_result"
    }
   ],
   "source": [
    "prog['Js']"
   ]
  },
  {
   "cell_type": "code",
   "execution_count": 103,
   "id": "3ff102a3",
   "metadata": {},
   "outputs": [
    {
     "data": {
      "text/plain": [
       "['PyCharm', 'Anaconda', 'IDLE']"
      ]
     },
     "execution_count": 103,
     "metadata": {},
     "output_type": "execute_result"
    }
   ],
   "source": [
    "prog['Python']"
   ]
  },
  {
   "cell_type": "code",
   "execution_count": 104,
   "id": "bbd15af5",
   "metadata": {},
   "outputs": [
    {
     "data": {
      "text/plain": [
       "'Anaconda'"
      ]
     },
     "execution_count": 104,
     "metadata": {},
     "output_type": "execute_result"
    }
   ],
   "source": [
    "prog['Python'][1]"
   ]
  },
  {
   "cell_type": "code",
   "execution_count": 105,
   "id": "abe78ce0",
   "metadata": {},
   "outputs": [
    {
     "data": {
      "text/plain": [
       "{'JSE': 'Netbeans', 'JEE': 'Eclipse'}"
      ]
     },
     "execution_count": 105,
     "metadata": {},
     "output_type": "execute_result"
    }
   ],
   "source": [
    "prog['Java']"
   ]
  },
  {
   "cell_type": "code",
   "execution_count": 106,
   "id": "360cad6e",
   "metadata": {},
   "outputs": [
    {
     "data": {
      "text/plain": [
       "'Eclipse'"
      ]
     },
     "execution_count": 106,
     "metadata": {},
     "output_type": "execute_result"
    }
   ],
   "source": [
    "prog['Java']['JEE']"
   ]
  },
  {
   "cell_type": "code",
   "execution_count": 3,
   "id": "c297f0e9",
   "metadata": {},
   "outputs": [
    {
     "name": "stdout",
     "output_type": "stream",
     "text": [
      "Enter an integer: 5\n"
     ]
    }
   ],
   "source": [
    "x = input(\"Enter an integer: \")"
   ]
  },
  {
   "cell_type": "code",
   "execution_count": 7,
   "id": "bcea748f",
   "metadata": {},
   "outputs": [
    {
     "data": {
      "text/plain": [
       "str"
      ]
     },
     "execution_count": 7,
     "metadata": {},
     "output_type": "execute_result"
    }
   ],
   "source": [
    "type(x)"
   ]
  },
  {
   "cell_type": "code",
   "execution_count": 4,
   "id": "af3498f9",
   "metadata": {},
   "outputs": [
    {
     "name": "stdout",
     "output_type": "stream",
     "text": [
      "Enter an integer: 5\n"
     ]
    }
   ],
   "source": [
    "a = int(input(\"Enter an integer: \"))"
   ]
  },
  {
   "cell_type": "code",
   "execution_count": 6,
   "id": "260c9ba5",
   "metadata": {},
   "outputs": [
    {
     "data": {
      "text/plain": [
       "int"
      ]
     },
     "execution_count": 6,
     "metadata": {},
     "output_type": "execute_result"
    }
   ],
   "source": [
    "type(a)"
   ]
  },
  {
   "cell_type": "code",
   "execution_count": 8,
   "id": "0d770196",
   "metadata": {},
   "outputs": [
    {
     "name": "stdout",
     "output_type": "stream",
     "text": [
      "Enter an expression: 5+ 6 - 4 * 2\n"
     ]
    }
   ],
   "source": [
    "result = eval(input(\"Enter an expression: \"))"
   ]
  },
  {
   "cell_type": "code",
   "execution_count": 9,
   "id": "aeb7887a",
   "metadata": {},
   "outputs": [
    {
     "data": {
      "text/plain": [
       "3"
      ]
     },
     "execution_count": 9,
     "metadata": {},
     "output_type": "execute_result"
    }
   ],
   "source": [
    "result"
   ]
  },
  {
   "cell_type": "code",
   "execution_count": 11,
   "id": "5631eb55",
   "metadata": {},
   "outputs": [
    {
     "name": "stdout",
     "output_type": "stream",
     "text": [
      "4\n"
     ]
    }
   ],
   "source": [
    "l = [25, 45, 4]\n",
    "for i in l:\n",
    "    if(i % 5 != 0):\n",
    "        print(i)"
   ]
  },
  {
   "cell_type": "code",
   "execution_count": 14,
   "id": "909cb644",
   "metadata": {},
   "outputs": [
    {
     "name": "stdout",
     "output_type": "stream",
     "text": [
      "not found\n",
      "not found\n",
      "not found\n"
     ]
    }
   ],
   "source": [
    "l = [24, 6, 2]\n",
    "for i in l:\n",
    "    if(i % 5 == 0):\n",
    "        print(i)\n",
    "    else:\n",
    "        print(\"not found\")"
   ]
  },
  {
   "cell_type": "code",
   "execution_count": 15,
   "id": "d03c8df2",
   "metadata": {},
   "outputs": [
    {
     "name": "stdout",
     "output_type": "stream",
     "text": [
      "NOt found\n"
     ]
    }
   ],
   "source": [
    "l = [24, 6, 2]\n",
    "\n",
    "#for - else\n",
    "for i in l:\n",
    "    if(i % 5 == 0):\n",
    "        print(i)\n",
    "        break\n",
    "else:\n",
    "    print(\"NOt found\")"
   ]
  },
  {
   "cell_type": "markdown",
   "id": "a6cad908",
   "metadata": {},
   "source": [
    "# NUMPY"
   ]
  },
  {
   "cell_type": "code",
   "execution_count": 16,
   "id": "3adab559",
   "metadata": {},
   "outputs": [],
   "source": [
    "import numpy as np"
   ]
  },
  {
   "cell_type": "code",
   "execution_count": 20,
   "id": "2e3cd77c",
   "metadata": {},
   "outputs": [],
   "source": [
    "arr = np.array([1, 2, 4, 6])"
   ]
  },
  {
   "cell_type": "code",
   "execution_count": 21,
   "id": "ff289f5a",
   "metadata": {},
   "outputs": [
    {
     "data": {
      "text/plain": [
       "array([1, 2, 4, 6])"
      ]
     },
     "execution_count": 21,
     "metadata": {},
     "output_type": "execute_result"
    }
   ],
   "source": [
    "arr"
   ]
  },
  {
   "cell_type": "code",
   "execution_count": 1,
   "id": "94cc64f8",
   "metadata": {},
   "outputs": [],
   "source": [
    "from numpy import *"
   ]
  },
  {
   "cell_type": "code",
   "execution_count": 2,
   "id": "31d18dab",
   "metadata": {},
   "outputs": [],
   "source": [
    "arr = array([1, 2, 4, 6])"
   ]
  },
  {
   "cell_type": "code",
   "execution_count": 3,
   "id": "4511abf9",
   "metadata": {},
   "outputs": [
    {
     "data": {
      "text/plain": [
       "array([1, 2, 4, 6])"
      ]
     },
     "execution_count": 3,
     "metadata": {},
     "output_type": "execute_result"
    }
   ],
   "source": [
    "arr"
   ]
  },
  {
   "cell_type": "code",
   "execution_count": 4,
   "id": "76ea99ab",
   "metadata": {},
   "outputs": [
    {
     "data": {
      "text/plain": [
       "dtype('int32')"
      ]
     },
     "execution_count": 4,
     "metadata": {},
     "output_type": "execute_result"
    }
   ],
   "source": [
    "arr.dtype"
   ]
  },
  {
   "cell_type": "code",
   "execution_count": 5,
   "id": "a50aa75b",
   "metadata": {},
   "outputs": [
    {
     "name": "stdout",
     "output_type": "stream",
     "text": [
      "[1 2 4 6]\n"
     ]
    }
   ],
   "source": [
    "print(arr)"
   ]
  },
  {
   "cell_type": "code",
   "execution_count": 8,
   "id": "10fe8f48",
   "metadata": {},
   "outputs": [],
   "source": [
    "arr = array([4, 5.9, 4, 2])"
   ]
  },
  {
   "cell_type": "code",
   "execution_count": 9,
   "id": "9c6d33b2",
   "metadata": {},
   "outputs": [
    {
     "data": {
      "text/plain": [
       "dtype('float64')"
      ]
     },
     "execution_count": 9,
     "metadata": {},
     "output_type": "execute_result"
    }
   ],
   "source": [
    "arr.dtype"
   ]
  },
  {
   "cell_type": "code",
   "execution_count": 10,
   "id": "f02fb42f",
   "metadata": {},
   "outputs": [],
   "source": [
    "arr = array([1, 3, 5, 6], float)"
   ]
  },
  {
   "cell_type": "code",
   "execution_count": 11,
   "id": "e624196f",
   "metadata": {},
   "outputs": [
    {
     "data": {
      "text/plain": [
       "dtype('float64')"
      ]
     },
     "execution_count": 11,
     "metadata": {},
     "output_type": "execute_result"
    }
   ],
   "source": [
    "arr.dtype"
   ]
  },
  {
   "cell_type": "code",
   "execution_count": 12,
   "id": "3f63b8d7",
   "metadata": {},
   "outputs": [],
   "source": [
    "arr = linspace(0, 15)  #range is divided into 50 parts by default"
   ]
  },
  {
   "cell_type": "code",
   "execution_count": 13,
   "id": "b637137f",
   "metadata": {},
   "outputs": [
    {
     "data": {
      "text/plain": [
       "array([ 0.        ,  0.30612245,  0.6122449 ,  0.91836735,  1.2244898 ,\n",
       "        1.53061224,  1.83673469,  2.14285714,  2.44897959,  2.75510204,\n",
       "        3.06122449,  3.36734694,  3.67346939,  3.97959184,  4.28571429,\n",
       "        4.59183673,  4.89795918,  5.20408163,  5.51020408,  5.81632653,\n",
       "        6.12244898,  6.42857143,  6.73469388,  7.04081633,  7.34693878,\n",
       "        7.65306122,  7.95918367,  8.26530612,  8.57142857,  8.87755102,\n",
       "        9.18367347,  9.48979592,  9.79591837, 10.10204082, 10.40816327,\n",
       "       10.71428571, 11.02040816, 11.32653061, 11.63265306, 11.93877551,\n",
       "       12.24489796, 12.55102041, 12.85714286, 13.16326531, 13.46938776,\n",
       "       13.7755102 , 14.08163265, 14.3877551 , 14.69387755, 15.        ])"
      ]
     },
     "execution_count": 13,
     "metadata": {},
     "output_type": "execute_result"
    }
   ],
   "source": [
    "arr"
   ]
  },
  {
   "cell_type": "code",
   "execution_count": 20,
   "id": "8a8a231b",
   "metadata": {},
   "outputs": [],
   "source": [
    "arr = linspace(0, 15, 16)  #16 parts"
   ]
  },
  {
   "cell_type": "code",
   "execution_count": 21,
   "id": "d0506063",
   "metadata": {},
   "outputs": [
    {
     "data": {
      "text/plain": [
       "array([ 0.,  1.,  2.,  3.,  4.,  5.,  6.,  7.,  8.,  9., 10., 11., 12.,\n",
       "       13., 14., 15.])"
      ]
     },
     "execution_count": 21,
     "metadata": {},
     "output_type": "execute_result"
    }
   ],
   "source": [
    "arr"
   ]
  },
  {
   "cell_type": "code",
   "execution_count": 22,
   "id": "0b5a617d",
   "metadata": {},
   "outputs": [],
   "source": [
    "arr = arange(0, 15)"
   ]
  },
  {
   "cell_type": "code",
   "execution_count": 23,
   "id": "980e0d61",
   "metadata": {},
   "outputs": [
    {
     "data": {
      "text/plain": [
       "array([ 0,  1,  2,  3,  4,  5,  6,  7,  8,  9, 10, 11, 12, 13, 14])"
      ]
     },
     "execution_count": 23,
     "metadata": {},
     "output_type": "execute_result"
    }
   ],
   "source": [
    "arr"
   ]
  },
  {
   "cell_type": "code",
   "execution_count": 24,
   "id": "4b9280fc",
   "metadata": {},
   "outputs": [],
   "source": [
    "arr = logspace(1, 40, 5)"
   ]
  },
  {
   "cell_type": "code",
   "execution_count": 25,
   "id": "e4f5dc03",
   "metadata": {},
   "outputs": [
    {
     "data": {
      "text/plain": [
       "array([1.00000000e+01, 5.62341325e+10, 3.16227766e+20, 1.77827941e+30,\n",
       "       1.00000000e+40])"
      ]
     },
     "execution_count": 25,
     "metadata": {},
     "output_type": "execute_result"
    }
   ],
   "source": [
    "arr"
   ]
  },
  {
   "cell_type": "code",
   "execution_count": 28,
   "id": "2b87ac10",
   "metadata": {},
   "outputs": [],
   "source": [
    "arr = zeros(6)"
   ]
  },
  {
   "cell_type": "code",
   "execution_count": 29,
   "id": "5daafe99",
   "metadata": {},
   "outputs": [
    {
     "data": {
      "text/plain": [
       "array([0., 0., 0., 0., 0., 0.])"
      ]
     },
     "execution_count": 29,
     "metadata": {},
     "output_type": "execute_result"
    }
   ],
   "source": [
    "arr"
   ]
  },
  {
   "cell_type": "code",
   "execution_count": 41,
   "id": "61d3c2bb",
   "metadata": {},
   "outputs": [],
   "source": [
    "arr = zeros((2, 4, 3))"
   ]
  },
  {
   "cell_type": "code",
   "execution_count": 43,
   "id": "2808eafd",
   "metadata": {},
   "outputs": [
    {
     "name": "stdout",
     "output_type": "stream",
     "text": [
      "[[[0. 0. 0.]\n",
      "  [0. 0. 0.]\n",
      "  [0. 0. 0.]\n",
      "  [0. 0. 0.]]\n",
      "\n",
      " [[0. 0. 0.]\n",
      "  [0. 0. 0.]\n",
      "  [0. 0. 0.]\n",
      "  [0. 0. 0.]]]\n"
     ]
    }
   ],
   "source": [
    "print(arr)"
   ]
  },
  {
   "cell_type": "code",
   "execution_count": 44,
   "id": "55930ae8",
   "metadata": {},
   "outputs": [],
   "source": [
    "arr = ones((4, 5))"
   ]
  },
  {
   "cell_type": "code",
   "execution_count": 45,
   "id": "f45b39bd",
   "metadata": {},
   "outputs": [
    {
     "data": {
      "text/plain": [
       "array([[1., 1., 1., 1., 1.],\n",
       "       [1., 1., 1., 1., 1.],\n",
       "       [1., 1., 1., 1., 1.],\n",
       "       [1., 1., 1., 1., 1.]])"
      ]
     },
     "execution_count": 45,
     "metadata": {},
     "output_type": "execute_result"
    }
   ],
   "source": [
    "arr"
   ]
  },
  {
   "cell_type": "code",
   "execution_count": 46,
   "id": "5d53f8e8",
   "metadata": {},
   "outputs": [],
   "source": [
    "arr = ones((2, 5, 4))"
   ]
  },
  {
   "cell_type": "code",
   "execution_count": 47,
   "id": "8d9a0703",
   "metadata": {},
   "outputs": [
    {
     "name": "stdout",
     "output_type": "stream",
     "text": [
      "[[[1. 1. 1. 1.]\n",
      "  [1. 1. 1. 1.]\n",
      "  [1. 1. 1. 1.]\n",
      "  [1. 1. 1. 1.]\n",
      "  [1. 1. 1. 1.]]\n",
      "\n",
      " [[1. 1. 1. 1.]\n",
      "  [1. 1. 1. 1.]\n",
      "  [1. 1. 1. 1.]\n",
      "  [1. 1. 1. 1.]\n",
      "  [1. 1. 1. 1.]]]\n"
     ]
    }
   ],
   "source": [
    "print(arr)"
   ]
  },
  {
   "cell_type": "code",
   "execution_count": 52,
   "id": "09608188",
   "metadata": {},
   "outputs": [],
   "source": [
    "arr1 = ones((2, 5, 4), int)"
   ]
  },
  {
   "cell_type": "code",
   "execution_count": 53,
   "id": "38c71b3d",
   "metadata": {},
   "outputs": [
    {
     "name": "stdout",
     "output_type": "stream",
     "text": [
      "[[[1 1 1 1]\n",
      "  [1 1 1 1]\n",
      "  [1 1 1 1]\n",
      "  [1 1 1 1]\n",
      "  [1 1 1 1]]\n",
      "\n",
      " [[1 1 1 1]\n",
      "  [1 1 1 1]\n",
      "  [1 1 1 1]\n",
      "  [1 1 1 1]\n",
      "  [1 1 1 1]]]\n"
     ]
    }
   ],
   "source": [
    "print(arr1)"
   ]
  },
  {
   "cell_type": "code",
   "execution_count": 54,
   "id": "7c5abf83",
   "metadata": {},
   "outputs": [],
   "source": [
    "arr1 = arr1 + 1"
   ]
  },
  {
   "cell_type": "code",
   "execution_count": 55,
   "id": "f3125602",
   "metadata": {},
   "outputs": [
    {
     "data": {
      "text/plain": [
       "array([[[2, 2, 2, 2],\n",
       "        [2, 2, 2, 2],\n",
       "        [2, 2, 2, 2],\n",
       "        [2, 2, 2, 2],\n",
       "        [2, 2, 2, 2]],\n",
       "\n",
       "       [[2, 2, 2, 2],\n",
       "        [2, 2, 2, 2],\n",
       "        [2, 2, 2, 2],\n",
       "        [2, 2, 2, 2],\n",
       "        [2, 2, 2, 2]]])"
      ]
     },
     "execution_count": 55,
     "metadata": {},
     "output_type": "execute_result"
    }
   ],
   "source": [
    "arr1"
   ]
  },
  {
   "cell_type": "code",
   "execution_count": 56,
   "id": "ff91de30",
   "metadata": {},
   "outputs": [],
   "source": [
    "arr2 = ones((2, 5, 4), int)"
   ]
  },
  {
   "cell_type": "code",
   "execution_count": 57,
   "id": "6e97f6c8",
   "metadata": {},
   "outputs": [],
   "source": [
    "arr3 = arr1 + arr2"
   ]
  },
  {
   "cell_type": "code",
   "execution_count": 58,
   "id": "1cb643df",
   "metadata": {
    "scrolled": true
   },
   "outputs": [
    {
     "data": {
      "text/plain": [
       "array([[[3, 3, 3, 3],\n",
       "        [3, 3, 3, 3],\n",
       "        [3, 3, 3, 3],\n",
       "        [3, 3, 3, 3],\n",
       "        [3, 3, 3, 3]],\n",
       "\n",
       "       [[3, 3, 3, 3],\n",
       "        [3, 3, 3, 3],\n",
       "        [3, 3, 3, 3],\n",
       "        [3, 3, 3, 3],\n",
       "        [3, 3, 3, 3]]])"
      ]
     },
     "execution_count": 58,
     "metadata": {},
     "output_type": "execute_result"
    }
   ],
   "source": [
    "arr3"
   ]
  },
  {
   "cell_type": "code",
   "execution_count": 59,
   "id": "36d8708a",
   "metadata": {},
   "outputs": [
    {
     "name": "stdout",
     "output_type": "stream",
     "text": [
      "[[[0.14112001 0.14112001 0.14112001 0.14112001]\n",
      "  [0.14112001 0.14112001 0.14112001 0.14112001]\n",
      "  [0.14112001 0.14112001 0.14112001 0.14112001]\n",
      "  [0.14112001 0.14112001 0.14112001 0.14112001]\n",
      "  [0.14112001 0.14112001 0.14112001 0.14112001]]\n",
      "\n",
      " [[0.14112001 0.14112001 0.14112001 0.14112001]\n",
      "  [0.14112001 0.14112001 0.14112001 0.14112001]\n",
      "  [0.14112001 0.14112001 0.14112001 0.14112001]\n",
      "  [0.14112001 0.14112001 0.14112001 0.14112001]\n",
      "  [0.14112001 0.14112001 0.14112001 0.14112001]]]\n"
     ]
    }
   ],
   "source": [
    "print(sin(arr3))"
   ]
  },
  {
   "cell_type": "code",
   "execution_count": 60,
   "id": "eb3adfad",
   "metadata": {},
   "outputs": [
    {
     "name": "stdout",
     "output_type": "stream",
     "text": [
      "[[[-0.9899925 -0.9899925 -0.9899925 -0.9899925]\n",
      "  [-0.9899925 -0.9899925 -0.9899925 -0.9899925]\n",
      "  [-0.9899925 -0.9899925 -0.9899925 -0.9899925]\n",
      "  [-0.9899925 -0.9899925 -0.9899925 -0.9899925]\n",
      "  [-0.9899925 -0.9899925 -0.9899925 -0.9899925]]\n",
      "\n",
      " [[-0.9899925 -0.9899925 -0.9899925 -0.9899925]\n",
      "  [-0.9899925 -0.9899925 -0.9899925 -0.9899925]\n",
      "  [-0.9899925 -0.9899925 -0.9899925 -0.9899925]\n",
      "  [-0.9899925 -0.9899925 -0.9899925 -0.9899925]\n",
      "  [-0.9899925 -0.9899925 -0.9899925 -0.9899925]]]\n"
     ]
    }
   ],
   "source": [
    "print(cos(arr3))"
   ]
  },
  {
   "cell_type": "code",
   "execution_count": 61,
   "id": "cb8428a9",
   "metadata": {},
   "outputs": [
    {
     "name": "stdout",
     "output_type": "stream",
     "text": [
      "[[[1.73205081 1.73205081 1.73205081 1.73205081]\n",
      "  [1.73205081 1.73205081 1.73205081 1.73205081]\n",
      "  [1.73205081 1.73205081 1.73205081 1.73205081]\n",
      "  [1.73205081 1.73205081 1.73205081 1.73205081]\n",
      "  [1.73205081 1.73205081 1.73205081 1.73205081]]\n",
      "\n",
      " [[1.73205081 1.73205081 1.73205081 1.73205081]\n",
      "  [1.73205081 1.73205081 1.73205081 1.73205081]\n",
      "  [1.73205081 1.73205081 1.73205081 1.73205081]\n",
      "  [1.73205081 1.73205081 1.73205081 1.73205081]\n",
      "  [1.73205081 1.73205081 1.73205081 1.73205081]]]\n"
     ]
    }
   ],
   "source": [
    "print(sqrt(arr3))"
   ]
  },
  {
   "cell_type": "code",
   "execution_count": 62,
   "id": "22689876",
   "metadata": {},
   "outputs": [
    {
     "name": "stdout",
     "output_type": "stream",
     "text": [
      "[[[1.09861229 1.09861229 1.09861229 1.09861229]\n",
      "  [1.09861229 1.09861229 1.09861229 1.09861229]\n",
      "  [1.09861229 1.09861229 1.09861229 1.09861229]\n",
      "  [1.09861229 1.09861229 1.09861229 1.09861229]\n",
      "  [1.09861229 1.09861229 1.09861229 1.09861229]]\n",
      "\n",
      " [[1.09861229 1.09861229 1.09861229 1.09861229]\n",
      "  [1.09861229 1.09861229 1.09861229 1.09861229]\n",
      "  [1.09861229 1.09861229 1.09861229 1.09861229]\n",
      "  [1.09861229 1.09861229 1.09861229 1.09861229]\n",
      "  [1.09861229 1.09861229 1.09861229 1.09861229]]]\n"
     ]
    }
   ],
   "source": [
    "print(log(arr3))"
   ]
  },
  {
   "cell_type": "code",
   "execution_count": 63,
   "id": "e50ff93b",
   "metadata": {},
   "outputs": [
    {
     "name": "stdout",
     "output_type": "stream",
     "text": [
      "120\n"
     ]
    }
   ],
   "source": [
    "print(sum(arr3))"
   ]
  },
  {
   "cell_type": "code",
   "execution_count": 72,
   "id": "68210d5a",
   "metadata": {},
   "outputs": [
    {
     "name": "stdout",
     "output_type": "stream",
     "text": [
      "[1 5 3 5 3 4 0 9]\n"
     ]
    }
   ],
   "source": [
    "v1 = array([1, 5, 3, 5])\n",
    "v2 = array([3, 4, 0, 9])\n",
    "print(concatenate((v1, v2)))"
   ]
  },
  {
   "cell_type": "code",
   "execution_count": 73,
   "id": "9336f445",
   "metadata": {},
   "outputs": [],
   "source": [
    "v3 = arr3.view()   #shallow copy - both are pointing to same arrays"
   ]
  },
  {
   "cell_type": "code",
   "execution_count": 74,
   "id": "28ddce34",
   "metadata": {},
   "outputs": [
    {
     "data": {
      "text/plain": [
       "array([[[3, 3, 3, 3],\n",
       "        [3, 3, 3, 3],\n",
       "        [3, 3, 3, 3],\n",
       "        [3, 3, 3, 3],\n",
       "        [3, 3, 3, 3]],\n",
       "\n",
       "       [[3, 3, 3, 3],\n",
       "        [3, 3, 3, 3],\n",
       "        [3, 3, 3, 3],\n",
       "        [3, 3, 3, 3],\n",
       "        [3, 3, 3, 3]]])"
      ]
     },
     "execution_count": 74,
     "metadata": {},
     "output_type": "execute_result"
    }
   ],
   "source": [
    "v3"
   ]
  },
  {
   "cell_type": "code",
   "execution_count": 75,
   "id": "516e51fe",
   "metadata": {},
   "outputs": [],
   "source": [
    "v4 = arr3.copy()  #deep copy - both are independent arrays"
   ]
  },
  {
   "cell_type": "code",
   "execution_count": 76,
   "id": "a2e6ef50",
   "metadata": {},
   "outputs": [
    {
     "data": {
      "text/plain": [
       "array([[[3, 3, 3, 3],\n",
       "        [3, 3, 3, 3],\n",
       "        [3, 3, 3, 3],\n",
       "        [3, 3, 3, 3],\n",
       "        [3, 3, 3, 3]],\n",
       "\n",
       "       [[3, 3, 3, 3],\n",
       "        [3, 3, 3, 3],\n",
       "        [3, 3, 3, 3],\n",
       "        [3, 3, 3, 3],\n",
       "        [3, 3, 3, 3]]])"
      ]
     },
     "execution_count": 76,
     "metadata": {},
     "output_type": "execute_result"
    }
   ],
   "source": [
    "v4"
   ]
  },
  {
   "cell_type": "code",
   "execution_count": 77,
   "id": "13fc5a34",
   "metadata": {},
   "outputs": [],
   "source": [
    "arr3[1, 3, 2] = 6"
   ]
  },
  {
   "cell_type": "code",
   "execution_count": 78,
   "id": "99408219",
   "metadata": {},
   "outputs": [
    {
     "data": {
      "text/plain": [
       "array([[[3, 3, 3, 3],\n",
       "        [3, 3, 3, 3],\n",
       "        [3, 3, 3, 3],\n",
       "        [3, 3, 3, 3],\n",
       "        [3, 3, 3, 3]],\n",
       "\n",
       "       [[3, 3, 3, 3],\n",
       "        [3, 3, 3, 3],\n",
       "        [3, 3, 3, 3],\n",
       "        [3, 3, 6, 3],\n",
       "        [3, 3, 3, 3]]])"
      ]
     },
     "execution_count": 78,
     "metadata": {},
     "output_type": "execute_result"
    }
   ],
   "source": [
    "arr3"
   ]
  },
  {
   "cell_type": "code",
   "execution_count": 79,
   "id": "e67d7b1c",
   "metadata": {},
   "outputs": [
    {
     "data": {
      "text/plain": [
       "array([[[3, 3, 3, 3],\n",
       "        [3, 3, 3, 3],\n",
       "        [3, 3, 3, 3],\n",
       "        [3, 3, 3, 3],\n",
       "        [3, 3, 3, 3]],\n",
       "\n",
       "       [[3, 3, 3, 3],\n",
       "        [3, 3, 3, 3],\n",
       "        [3, 3, 3, 3],\n",
       "        [3, 3, 6, 3],\n",
       "        [3, 3, 3, 3]]])"
      ]
     },
     "execution_count": 79,
     "metadata": {},
     "output_type": "execute_result"
    }
   ],
   "source": [
    "v3 #shallow copy"
   ]
  },
  {
   "cell_type": "code",
   "execution_count": 80,
   "id": "55caf5e1",
   "metadata": {},
   "outputs": [
    {
     "data": {
      "text/plain": [
       "array([[[3, 3, 3, 3],\n",
       "        [3, 3, 3, 3],\n",
       "        [3, 3, 3, 3],\n",
       "        [3, 3, 3, 3],\n",
       "        [3, 3, 3, 3]],\n",
       "\n",
       "       [[3, 3, 3, 3],\n",
       "        [3, 3, 3, 3],\n",
       "        [3, 3, 3, 3],\n",
       "        [3, 3, 3, 3],\n",
       "        [3, 3, 3, 3]]])"
      ]
     },
     "execution_count": 80,
     "metadata": {},
     "output_type": "execute_result"
    }
   ],
   "source": [
    "v4  #deep copy"
   ]
  },
  {
   "cell_type": "code",
   "execution_count": 82,
   "id": "6a9c57c3",
   "metadata": {},
   "outputs": [],
   "source": [
    "##matrix\n",
    "\n",
    "mat = array([\n",
    "            [1, 3, 5],\n",
    "            [4, 5, 5],\n",
    "            [7, 8, 2]\n",
    "])"
   ]
  },
  {
   "cell_type": "code",
   "execution_count": 83,
   "id": "d610886f",
   "metadata": {},
   "outputs": [
    {
     "data": {
      "text/plain": [
       "array([[1, 3, 5],\n",
       "       [4, 5, 5],\n",
       "       [7, 8, 2]])"
      ]
     },
     "execution_count": 83,
     "metadata": {},
     "output_type": "execute_result"
    }
   ],
   "source": [
    "mat"
   ]
  },
  {
   "cell_type": "code",
   "execution_count": 84,
   "id": "c44f36f0",
   "metadata": {},
   "outputs": [
    {
     "data": {
      "text/plain": [
       "2"
      ]
     },
     "execution_count": 84,
     "metadata": {},
     "output_type": "execute_result"
    }
   ],
   "source": [
    "mat.ndim"
   ]
  },
  {
   "cell_type": "code",
   "execution_count": 85,
   "id": "8705aad0",
   "metadata": {},
   "outputs": [
    {
     "data": {
      "text/plain": [
       "(3, 3)"
      ]
     },
     "execution_count": 85,
     "metadata": {},
     "output_type": "execute_result"
    }
   ],
   "source": [
    "mat.shape"
   ]
  },
  {
   "cell_type": "code",
   "execution_count": 86,
   "id": "3d1965ee",
   "metadata": {},
   "outputs": [],
   "source": [
    "arrr = mat.flatten()"
   ]
  },
  {
   "cell_type": "code",
   "execution_count": 87,
   "id": "6054c558",
   "metadata": {},
   "outputs": [
    {
     "data": {
      "text/plain": [
       "array([1, 3, 5, 4, 5, 5, 7, 8, 2])"
      ]
     },
     "execution_count": 87,
     "metadata": {},
     "output_type": "execute_result"
    }
   ],
   "source": [
    "arrr"
   ]
  },
  {
   "cell_type": "code",
   "execution_count": 92,
   "id": "e12c870b",
   "metadata": {},
   "outputs": [],
   "source": [
    "mat2 = arrr.reshape(3, 3)"
   ]
  },
  {
   "cell_type": "code",
   "execution_count": 93,
   "id": "12e233ba",
   "metadata": {},
   "outputs": [
    {
     "data": {
      "text/plain": [
       "array([[1, 3, 5],\n",
       "       [4, 5, 5],\n",
       "       [7, 8, 2]])"
      ]
     },
     "execution_count": 93,
     "metadata": {},
     "output_type": "execute_result"
    }
   ],
   "source": [
    "mat2"
   ]
  },
  {
   "cell_type": "code",
   "execution_count": 94,
   "id": "36c9a03a",
   "metadata": {},
   "outputs": [],
   "source": [
    "mat3 = matrix(mat) #matrix allows us to perform operations on matrix"
   ]
  },
  {
   "cell_type": "code",
   "execution_count": 95,
   "id": "6aa820a8",
   "metadata": {},
   "outputs": [
    {
     "data": {
      "text/plain": [
       "matrix([[1, 3, 5],\n",
       "        [4, 5, 5],\n",
       "        [7, 8, 2]])"
      ]
     },
     "execution_count": 95,
     "metadata": {},
     "output_type": "execute_result"
    }
   ],
   "source": [
    "mat3"
   ]
  },
  {
   "cell_type": "code",
   "execution_count": 96,
   "id": "ade3912e",
   "metadata": {},
   "outputs": [],
   "source": [
    "mat4 = matrix([\n",
    "    [2, 4, 5],\n",
    "    [3, 2, 1],\n",
    "    [8, 9, 7]\n",
    "])"
   ]
  },
  {
   "cell_type": "code",
   "execution_count": 97,
   "id": "abfb52a6",
   "metadata": {},
   "outputs": [],
   "source": [
    "mat5 = matrix('1 2 3 ; 4 5 6; 7 8 9')"
   ]
  },
  {
   "cell_type": "code",
   "execution_count": 98,
   "id": "ba750f0c",
   "metadata": {},
   "outputs": [
    {
     "data": {
      "text/plain": [
       "matrix([[1, 2, 3],\n",
       "        [4, 5, 6],\n",
       "        [7, 8, 9]])"
      ]
     },
     "execution_count": 98,
     "metadata": {},
     "output_type": "execute_result"
    }
   ],
   "source": [
    "mat5"
   ]
  },
  {
   "cell_type": "code",
   "execution_count": 99,
   "id": "66a6c329",
   "metadata": {},
   "outputs": [
    {
     "data": {
      "text/plain": [
       "array([1, 5, 9])"
      ]
     },
     "execution_count": 99,
     "metadata": {},
     "output_type": "execute_result"
    }
   ],
   "source": [
    "diagonal(mat5)"
   ]
  },
  {
   "cell_type": "code",
   "execution_count": 101,
   "id": "a26bf28b",
   "metadata": {},
   "outputs": [
    {
     "data": {
      "text/plain": [
       "1"
      ]
     },
     "execution_count": 101,
     "metadata": {},
     "output_type": "execute_result"
    }
   ],
   "source": [
    "mat5.min()"
   ]
  },
  {
   "cell_type": "code",
   "execution_count": 102,
   "id": "37a0e316",
   "metadata": {},
   "outputs": [
    {
     "data": {
      "text/plain": [
       "9"
      ]
     },
     "execution_count": 102,
     "metadata": {},
     "output_type": "execute_result"
    }
   ],
   "source": [
    "mat5.max()"
   ]
  },
  {
   "cell_type": "code",
   "execution_count": 103,
   "id": "2cd3d8fc",
   "metadata": {},
   "outputs": [],
   "source": [
    "mat6 = mat4 + mat5"
   ]
  },
  {
   "cell_type": "code",
   "execution_count": 104,
   "id": "56085136",
   "metadata": {},
   "outputs": [
    {
     "data": {
      "text/plain": [
       "matrix([[ 3,  6,  8],\n",
       "        [ 7,  7,  7],\n",
       "        [15, 17, 16]])"
      ]
     },
     "execution_count": 104,
     "metadata": {},
     "output_type": "execute_result"
    }
   ],
   "source": [
    "mat6"
   ]
  },
  {
   "cell_type": "code",
   "execution_count": 105,
   "id": "06a67588",
   "metadata": {},
   "outputs": [],
   "source": [
    "pro = mat4 * mat5"
   ]
  },
  {
   "cell_type": "code",
   "execution_count": 106,
   "id": "076b5ce3",
   "metadata": {},
   "outputs": [
    {
     "data": {
      "text/plain": [
       "matrix([[ 53,  64,  75],\n",
       "        [ 18,  24,  30],\n",
       "        [ 93, 117, 141]])"
      ]
     },
     "execution_count": 106,
     "metadata": {},
     "output_type": "execute_result"
    }
   ],
   "source": [
    "pro"
   ]
  },
  {
   "cell_type": "code",
   "execution_count": 107,
   "id": "f37ed9b5",
   "metadata": {},
   "outputs": [],
   "source": [
    "def add_sub(x, y):\n",
    "    s = x + y\n",
    "    d = x - y\n",
    "    return s, d"
   ]
  },
  {
   "cell_type": "code",
   "execution_count": 108,
   "id": "ff172f39",
   "metadata": {},
   "outputs": [],
   "source": [
    "s, d = add_sub(5, 2)"
   ]
  },
  {
   "cell_type": "code",
   "execution_count": 109,
   "id": "122ef32a",
   "metadata": {},
   "outputs": [
    {
     "data": {
      "text/plain": [
       "(7, 3)"
      ]
     },
     "execution_count": 109,
     "metadata": {},
     "output_type": "execute_result"
    }
   ],
   "source": [
    "s, d"
   ]
  },
  {
   "cell_type": "code",
   "execution_count": 112,
   "id": "f1a99b87",
   "metadata": {},
   "outputs": [],
   "source": [
    "#variable length arguments - when multiple arguments are allowed and we don't know the exact number.\n",
    "\n",
    "def sum(a, *b):\n",
    "    c = a\n",
    "    for i in b:\n",
    "        c += i\n",
    "    print(c)"
   ]
  },
  {
   "cell_type": "code",
   "execution_count": 113,
   "id": "f1934cda",
   "metadata": {},
   "outputs": [
    {
     "name": "stdout",
     "output_type": "stream",
     "text": [
      "11\n"
     ]
    }
   ],
   "source": [
    "sum(1, 6, 4)"
   ]
  },
  {
   "cell_type": "code",
   "execution_count": 114,
   "id": "0d7bd823",
   "metadata": {},
   "outputs": [],
   "source": [
    "#kwargs - keyworded variable length arguments - mentioning keyword alongside multiple arguments\n",
    "\n",
    "def person(name, **data):\n",
    "    print(name)\n",
    "    print(data)"
   ]
  },
  {
   "cell_type": "code",
   "execution_count": 116,
   "id": "b5231605",
   "metadata": {},
   "outputs": [
    {
     "name": "stdout",
     "output_type": "stream",
     "text": [
      "Hrishi\n",
      "{'age': 23, 'city': 'Chandrapur', 'mob': 3279457982}\n"
     ]
    }
   ],
   "source": [
    "person(\"Hrishi\", age = 23, city = \"Chandrapur\", mob = 3279457982)"
   ]
  },
  {
   "cell_type": "code",
   "execution_count": 123,
   "id": "6281b3d6",
   "metadata": {},
   "outputs": [],
   "source": [
    "def person(name, **data):\n",
    "    print(name)\n",
    "    for i, j in data.items():\n",
    "        print(i + \": \" + str(j))"
   ]
  },
  {
   "cell_type": "code",
   "execution_count": 124,
   "id": "dc2436e5",
   "metadata": {},
   "outputs": [
    {
     "name": "stdout",
     "output_type": "stream",
     "text": [
      "Hrishi\n",
      "age: 23\n",
      "city: Chandrapur\n",
      "mob: 3279457982\n"
     ]
    }
   ],
   "source": [
    "person(\"Hrishi\", age = 23, city = \"Chandrapur\", mob = 3279457982)"
   ]
  },
  {
   "cell_type": "code",
   "execution_count": 126,
   "id": "010f4fb4",
   "metadata": {},
   "outputs": [],
   "source": [
    "#passing list in a function\n",
    "\n",
    "def count(lst):\n",
    "    even = 0\n",
    "    odd = 0\n",
    "    for i in lst:\n",
    "        if(i % 2 == 0):\n",
    "            even += 1\n",
    "        else:\n",
    "            odd += 1\n",
    "    return even, odd"
   ]
  },
  {
   "cell_type": "code",
   "execution_count": 131,
   "id": "55680c12",
   "metadata": {},
   "outputs": [],
   "source": [
    "even, odd = count([44, 53, 24, 524, 233, 241, 5])"
   ]
  },
  {
   "cell_type": "code",
   "execution_count": 128,
   "id": "eb92d558",
   "metadata": {},
   "outputs": [
    {
     "name": "stdout",
     "output_type": "stream",
     "text": [
      "3\n"
     ]
    }
   ],
   "source": [
    "print(even)"
   ]
  },
  {
   "cell_type": "code",
   "execution_count": 129,
   "id": "f7517495",
   "metadata": {},
   "outputs": [
    {
     "name": "stdout",
     "output_type": "stream",
     "text": [
      "4\n"
     ]
    }
   ],
   "source": [
    "print(odd)"
   ]
  },
  {
   "cell_type": "code",
   "execution_count": 133,
   "id": "0909db01",
   "metadata": {},
   "outputs": [
    {
     "name": "stdout",
     "output_type": "stream",
     "text": [
      "Even: 3 and Odd: 4\n"
     ]
    }
   ],
   "source": [
    "print(\"Even: {} and Odd: {}\".format(even, odd))"
   ]
  },
  {
   "cell_type": "code",
   "execution_count": 134,
   "id": "217d7781",
   "metadata": {},
   "outputs": [],
   "source": [
    "#anonymous function - lambda function - fun with no name\n",
    "f = lambda a : a*a\n",
    "res = f(5)"
   ]
  },
  {
   "cell_type": "code",
   "execution_count": 135,
   "id": "afe099ba",
   "metadata": {},
   "outputs": [
    {
     "data": {
      "text/plain": [
       "25"
      ]
     },
     "execution_count": 135,
     "metadata": {},
     "output_type": "execute_result"
    }
   ],
   "source": [
    "res"
   ]
  },
  {
   "cell_type": "code",
   "execution_count": 136,
   "id": "1d394186",
   "metadata": {},
   "outputs": [],
   "source": [
    "f = lambda a, b: a * b\n",
    "res = f(4, 3)"
   ]
  },
  {
   "cell_type": "code",
   "execution_count": 137,
   "id": "eb41f60d",
   "metadata": {},
   "outputs": [
    {
     "data": {
      "text/plain": [
       "12"
      ]
     },
     "execution_count": 137,
     "metadata": {},
     "output_type": "execute_result"
    }
   ],
   "source": [
    "res"
   ]
  },
  {
   "cell_type": "code",
   "execution_count": 138,
   "id": "c068969d",
   "metadata": {},
   "outputs": [],
   "source": [
    "nums = [4, 2, 55, 243, 24, 51, 13, 334]"
   ]
  },
  {
   "cell_type": "code",
   "execution_count": 143,
   "id": "2be811de",
   "metadata": {},
   "outputs": [],
   "source": [
    "#filter\n",
    "evens = list(filter(lambda i: i % 2 == 0, nums))"
   ]
  },
  {
   "cell_type": "code",
   "execution_count": 144,
   "id": "3346a854",
   "metadata": {},
   "outputs": [
    {
     "data": {
      "text/plain": [
       "[4, 2, 24, 334]"
      ]
     },
     "execution_count": 144,
     "metadata": {},
     "output_type": "execute_result"
    }
   ],
   "source": [
    "evens"
   ]
  },
  {
   "cell_type": "code",
   "execution_count": 145,
   "id": "bbe1ec8e",
   "metadata": {},
   "outputs": [],
   "source": [
    "#map - used when there is a need to change every value\n",
    "doubles = list(map(lambda n: n * 2, nums))"
   ]
  },
  {
   "cell_type": "code",
   "execution_count": 146,
   "id": "5aa445bb",
   "metadata": {},
   "outputs": [
    {
     "data": {
      "text/plain": [
       "[8, 4, 110, 486, 48, 102, 26, 668]"
      ]
     },
     "execution_count": 146,
     "metadata": {},
     "output_type": "execute_result"
    }
   ],
   "source": [
    "doubles"
   ]
  },
  {
   "cell_type": "code",
   "execution_count": 147,
   "id": "745a36f5",
   "metadata": {},
   "outputs": [],
   "source": [
    "#reduce - all values to one value\n",
    "from functools import reduce"
   ]
  },
  {
   "cell_type": "code",
   "execution_count": 148,
   "id": "15ba5895",
   "metadata": {},
   "outputs": [],
   "source": [
    "add = reduce(lambda a, b: a + b, nums)"
   ]
  },
  {
   "cell_type": "code",
   "execution_count": 151,
   "id": "e7a3feb5",
   "metadata": {},
   "outputs": [
    {
     "data": {
      "text/plain": [
       "726"
      ]
     },
     "execution_count": 151,
     "metadata": {},
     "output_type": "execute_result"
    }
   ],
   "source": [
    "add"
   ]
  },
  {
   "cell_type": "code",
   "execution_count": 6,
   "id": "fa58f548",
   "metadata": {},
   "outputs": [],
   "source": [
    "people = [\"Krishna\", \"Shiva\", \"Kamakshi\"]\n",
    "city = [\"Vrundavan\", \"Kedarnath\", \"Kanchipuram\"]"
   ]
  },
  {
   "cell_type": "code",
   "execution_count": 7,
   "id": "4696a315",
   "metadata": {},
   "outputs": [],
   "source": [
    "zipped = list(zip(people, city))"
   ]
  },
  {
   "cell_type": "code",
   "execution_count": 8,
   "id": "9de61469",
   "metadata": {},
   "outputs": [
    {
     "data": {
      "text/plain": [
       "[('Krishna', 'Vrundavan'), ('Shiva', 'Kedarnath'), ('Kamakshi', 'Kanchipuram')]"
      ]
     },
     "execution_count": 8,
     "metadata": {},
     "output_type": "execute_result"
    }
   ],
   "source": [
    "zipped"
   ]
  },
  {
   "cell_type": "code",
   "execution_count": 9,
   "id": "0801d65b",
   "metadata": {},
   "outputs": [],
   "source": [
    "zipped2 = dict(zip(people, city))"
   ]
  },
  {
   "cell_type": "code",
   "execution_count": 10,
   "id": "901afd60",
   "metadata": {},
   "outputs": [
    {
     "data": {
      "text/plain": [
       "{'Krishna': 'Vrundavan', 'Shiva': 'Kedarnath', 'Kamakshi': 'Kanchipuram'}"
      ]
     },
     "execution_count": 10,
     "metadata": {},
     "output_type": "execute_result"
    }
   ],
   "source": [
    "zipped2"
   ]
  },
  {
   "cell_type": "code",
   "execution_count": 11,
   "id": "39e7f653",
   "metadata": {},
   "outputs": [
    {
     "name": "stdout",
     "output_type": "stream",
     "text": [
      "Krishna Vrundavan\n",
      "Shiva Kedarnath\n",
      "Kamakshi Kanchipuram\n"
     ]
    }
   ],
   "source": [
    "for a, b in zipped:\n",
    "    print(a, b)"
   ]
  },
  {
   "cell_type": "code",
   "execution_count": null,
   "id": "037f9ec9",
   "metadata": {},
   "outputs": [],
   "source": []
  }
 ],
 "metadata": {
  "kernelspec": {
   "display_name": "Python 3 (ipykernel)",
   "language": "python",
   "name": "python3"
  },
  "language_info": {
   "codemirror_mode": {
    "name": "ipython",
    "version": 3
   },
   "file_extension": ".py",
   "mimetype": "text/x-python",
   "name": "python",
   "nbconvert_exporter": "python",
   "pygments_lexer": "ipython3",
   "version": "3.9.12"
  }
 },
 "nbformat": 4,
 "nbformat_minor": 5
}
